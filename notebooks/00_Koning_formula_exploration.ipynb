{
 "cells": [
  {
   "cell_type": "code",
   "execution_count": 1,
   "metadata": {},
   "outputs": [
    {
     "name": "stdout",
     "output_type": "stream",
     "text": [
      "При времени t = 183.0 сут полудлина трещины x_f = 436.73 м\n"
     ]
    }
   ],
   "source": [
    "import numpy as np\n",
    "\n",
    "Q = 100 / 86400  # закачиваемый расход, м^3/с\n",
    "mu = 0.309e-3  # вязкость, Па/с\n",
    "t = 183 * 86400  # время, с\n",
    "k_e = 0.5e-15  # проницаемость пласта, м^2\n",
    "h = 15  # высота, м\n",
    "#c_t = 2.2e-9  # общая сжимаемость, Па^(-1)\n",
    "#phi = 0.1  # пористость пласта\n",
    "p_f = 4.0e7  # давление в трещине, Па\n",
    "p_e = 2.5e7 # пластовое давление, Па\n",
    "\n",
    "#kappa = k_e / (phi * mu * c_t)  # пьезопроводность\n",
    "kappa = 0.015  # м^2/с\n",
    "\n",
    "x_f = Q * mu * np.sqrt(np.pi * kappa * t) / (2 * np.pi * k_e * h * (p_f - p_e))\n",
    "print(f'При времени t = {round(t / 86400,2)} сут полудлина трещины x_f = {round(x_f, 2)} м')"
   ]
  },
  {
   "cell_type": "code",
   "execution_count": null,
   "metadata": {},
   "outputs": [],
   "source": []
  }
 ],
 "metadata": {
  "kernelspec": {
   "display_name": "hydrofracturing-env",
   "language": "python",
   "name": "python3"
  },
  "language_info": {
   "codemirror_mode": {
    "name": "ipython",
    "version": 3
   },
   "file_extension": ".py",
   "mimetype": "text/x-python",
   "name": "python",
   "nbconvert_exporter": "python",
   "pygments_lexer": "ipython3",
   "version": "3.11.0"
  },
  "orig_nbformat": 4
 },
 "nbformat": 4,
 "nbformat_minor": 2
}
