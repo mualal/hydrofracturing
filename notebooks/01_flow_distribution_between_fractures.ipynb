{
 "cells": [
  {
   "cell_type": "code",
   "execution_count": 3,
   "metadata": {},
   "outputs": [],
   "source": [
    "try:\n",
    "    import google.colab, sys\n",
    "    !git clone https://github.com/mualal/hydrofracturing.git\n",
    "    sys.path.append('hydrofracturing')\n",
    "    %cd hydrofracturing\n",
    "except:\n",
    "    import sys\n",
    "    sys.path.append('..')"
   ]
  },
  {
   "attachments": {},
   "cell_type": "markdown",
   "metadata": {},
   "source": [
    "# Распределение потоков между трещинами\n",
    "\n",
    "<center> <img src=\"../images/flow_distribution_between_fractures_1.jpg\" width=\"700px\" /> </center>\n",
    "\n",
    "<center> <img src=\"../images/flow_distribution_between_fractures_2.jpg\" width=\"700px\" /> </center>"
   ]
  },
  {
   "attachments": {},
   "cell_type": "markdown",
   "metadata": {},
   "source": [
    "## Законы Кирхгофа\n",
    "\n",
    "Весь расход, который закачиваем в скважину, перераспределяется между трещинами (первый закон Кирхгофа):\n",
    "$$\n",
    "Q_0=\\sum_{i=1}^{N}{Q_i}\n",
    "$$\n",
    "\n",
    "Можно независимо рассматривать каждый из путей (к каждой из трещин) и считать гидродинамические сопротивления независимо (второй закон Кирхгофа):\n",
    "$$\n",
    "p_0=\\sigma_{min,i}+p_{net,i}+\\Delta p_{perf,i}-\\sum_{j=1}^{i}{\\Delta p_{h,j}}+\\sum_{j=1}^{i}\\Delta p_{fric,j},\n",
    "$$\n",
    "где\n",
    "\n",
    "$\\sigma_{min,i}$ -- давление закрытия (минимальное напряжение в пласте) на $i$-ой трещине;\n",
    "\n",
    "$p_{net,i}=p_{frac,i}-\\sigma_{min,i}$ -- давление на $i$-ой трещине (из модели трещины);\n",
    "\n",
    "$\\Delta p_{perf,i}$ -- падение давления вдоль перфорации $i$-ой трещины;\n",
    "\n",
    "$\\Delta p_{h,i}$ -- падение гидростатического давления между $i$-ой и $(i-1)$-ой трещинами;\n",
    "\n",
    "$\\Delta p_{fric,i}$ -- падение давления на трение между $i$-ой и $(i-1)$-ой трещинами.\n",
    "\n",
    "\n",
    "В итоге, получаем следующую систему уравнений:\n",
    "$$\n",
    "\\begin{cases}\n",
    "Q_0=\\sum\\limits_{i=1}^{N}{Q_i}\\\\\n",
    "p_0=\\sigma_{min,i}+p_{net,i}(Q_i)+\\Delta p_{perf,i}(Q_i)-\\sum\\limits_{j=1}^{i}{\\Delta p_{h,j}}+\\sum\\limits_{j=1}^{i}\\Delta p_{fric,j}(Q_i)\n",
    "\\end{cases}\n",
    "$$\n",
    "относительно неизвестных расходов $Q_i$ и забойного давления $p_0$."
   ]
  },
  {
   "attachments": {},
   "cell_type": "markdown",
   "metadata": {},
   "source": [
    "## Формула для давления $p_{net,i}$ на $i$-ой трещине"
   ]
  },
  {
   "attachments": {},
   "cell_type": "markdown",
   "metadata": {},
   "source": [
    "Аналитический подход (с использованием PKN модели):\n",
    "$$\n",
    "p_{net,i}(Q_i)=a_iQ_i^{\\frac{n}{2n+3}}V_i^{\\frac{1}{2n+3}},\n",
    "$$\n",
    "где $a_i=\\left(\\dfrac{(n+3)(2n+1)^n \\cdot K\\cdot (E_i')^{2n+2}}{\\pi\\, 2^{2n}n^n\\phi^n h_i^{3n+3}}\\right)^{\\!\\frac{1}{2n+3}}$ -- параметр жёсткости,\n",
    "\n",
    "\n",
    "$Q_i$ и $V_i$ -- расход на $i$-ой трещине и объём $i$-ой трещины;\n",
    "\n",
    "$K$ и $n$ -- реологические параметры степенной (неньютоновской) жидкости;\n",
    "\n",
    "$E_i'$ -- модуль плоской деформации $i$-ой трещины;\n",
    "\n",
    "$h_i$ -- мощность продуктивной зоны.\n",
    "\n"
   ]
  },
  {
   "cell_type": "code",
   "execution_count": null,
   "metadata": {},
   "outputs": [],
   "source": []
  },
  {
   "attachments": {},
   "cell_type": "markdown",
   "metadata": {},
   "source": [
    "## Формула для падения давления $\\text{Δ} p_{perf,i}$ на перфорациях"
   ]
  },
  {
   "attachments": {},
   "cell_type": "markdown",
   "metadata": {},
   "source": [
    "Эмпирическая формула для падения давления на перфорациях:\n",
    "$$\n",
    "\\Delta p_{perf,i}=\\frac{8\\rho_s}{\\pi^2 C_{d,i}^2 n_{p,i}^2 d_{p_i}^2}Q_i\\left|Q_i\\right|,\n",
    "$$\n",
    "где $\\rho_s$ -- средняя плотность смеси;\n",
    "\n",
    "$n_{p,i}, d_{p,i}$ -- количество и диаметр перфораций;\n",
    "\n",
    "\n",
    "$C_{d,i}=\\dfrac{\\text{min}(d_{jet})}{d_p}$ -- безразмерный коэффициент эррозии (в случае отсутствия твёрдых частичек в потоке $C_{d,i}\\in\\left[0.5,0.6\\right]$, а с твёрдыми частичками в потоке $C_{d,j}\\in\\left[0.6,0.95\\right]$  из-за эррозии перфорации).\n"
   ]
  },
  {
   "cell_type": "code",
   "execution_count": null,
   "metadata": {},
   "outputs": [],
   "source": []
  },
  {
   "attachments": {},
   "cell_type": "markdown",
   "metadata": {},
   "source": [
    "## Формула для гидростатического давления $\\text{Δ} p_{h,i}$\n",
    "\n",
    "Гидростатическое давление на каждом интервале рассчитывается по следующей формуле:\n",
    "$$\n",
    "\\Delta p_{h,i}(t,x)=\\int\\limits_{x_{i-1}}^{x_i}{\\rho(c(t,s))\\cdot g\\cdot \\sin{(\\theta(s))}ds},\n",
    "$$\n",
    "где $x_i$ -- измеренная глубина (MD) $i$-ой трещины;\n",
    "\n",
    "$\\rho(c(t,s))$ -- плотность смеси, которая зависит от динамически меняющейся концентрации проппанта;\n",
    "\n",
    "$g$ -- ускорение свободного падения;\n",
    "\n",
    "$\\theta(s)$ -- угол между скважиной и поверхностью Земли в данной точке."
   ]
  },
  {
   "cell_type": "code",
   "execution_count": null,
   "metadata": {},
   "outputs": [],
   "source": []
  },
  {
   "attachments": {},
   "cell_type": "markdown",
   "metadata": {},
   "source": [
    "## Формула для падения давления $\\text{Δ} p_{fric,i}$ на трение\n",
    "\n",
    "Падение давления на трение на каждом интервале рассчитывается по следующей формуле:\n",
    "$$\n",
    "\\Delta p_{fric,i}=\\int\\limits_{x_{i-1}}^{x_i}{f\\frac{\\rho u_{m,i}^2}{R_i}}=\\int\\limits_{x_{i-1}}^{x_i}{\\frac{\\rho(c(t,s))\\cdot f(Re)\\cdot \\left(Q_0-\\sum\\limits_{j=1}^{i-1}{Q_j}\\right)^{\\!2}}{R_i(s)S_i^2(s)}}ds,\n",
    "$$\n",
    "где $f=\\dfrac{\\tau}{\\rho u_{m,i}^2/2}$ -- коэффициент трения Фаннинга;\n",
    "\n",
    "$\\rho(c(t,s))$ -- плотность смеси, которая зависит от динамически меняющейся концентрации проппанта;\n",
    "\n",
    "$u_{m,i}=\\dfrac{Q_0-\\sum\\limits_{j=1}^{i-1}{Q_j}}{S_i}$ -- средняя скорость на рассматриваемом участке трубы;\n",
    "\n",
    "$S_i$ -- площадь сечения рассматриваемого участка трубы;\n",
    "\n",
    "$R_i$ -- радиус рассматриваемого участка трубы;\n",
    "\n",
    "$Re$ -- число Рейнольдса."
   ]
  },
  {
   "cell_type": "code",
   "execution_count": null,
   "metadata": {},
   "outputs": [],
   "source": []
  },
  {
   "attachments": {},
   "cell_type": "markdown",
   "metadata": {},
   "source": [
    "## Итеративная процедура решения с помощью метода Ньютона"
   ]
  },
  {
   "cell_type": "markdown",
   "metadata": {},
   "source": []
  },
  {
   "cell_type": "code",
   "execution_count": null,
   "metadata": {},
   "outputs": [],
   "source": []
  }
 ],
 "metadata": {
  "kernelspec": {
   "display_name": "base",
   "language": "python",
   "name": "python3"
  },
  "language_info": {
   "codemirror_mode": {
    "name": "ipython",
    "version": 3
   },
   "file_extension": ".py",
   "mimetype": "text/x-python",
   "name": "python",
   "nbconvert_exporter": "python",
   "pygments_lexer": "ipython3",
   "version": "3.9.13"
  },
  "orig_nbformat": 4,
  "vscode": {
   "interpreter": {
    "hash": "dddb269d354fb4cef66200a4ce2b5779135fb59a526efe11ebdea67122026ac0"
   }
  }
 },
 "nbformat": 4,
 "nbformat_minor": 2
}
