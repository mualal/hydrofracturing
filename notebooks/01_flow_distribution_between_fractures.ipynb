{
 "cells": [
  {
   "cell_type": "code",
   "execution_count": 1,
   "metadata": {},
   "outputs": [],
   "source": [
    "try:\n",
    "    import google.colab, sys\n",
    "    !git clone https://github.com/mualal/hydrofracturing.git\n",
    "    sys.path.append('hydrofracturing')\n",
    "    %cd hydrofracturing\n",
    "except:\n",
    "    import sys\n",
    "    sys.path.append('..')"
   ]
  },
  {
   "cell_type": "code",
   "execution_count": 2,
   "metadata": {},
   "outputs": [],
   "source": [
    "import numpy as np\n",
    "from sympy import *"
   ]
  },
  {
   "attachments": {},
   "cell_type": "markdown",
   "metadata": {},
   "source": [
    "# Распределение потоков между трещинами\n",
    "\n",
    "<center> <img src=\"../images/flow_distribution_between_fractures_1.jpg\" width=\"700px\" /> </center>\n",
    "\n",
    "<center> <img src=\"../images/flow_distribution_between_fractures_2.jpg\" width=\"700px\" /> </center>"
   ]
  },
  {
   "attachments": {},
   "cell_type": "markdown",
   "metadata": {},
   "source": [
    "## Законы Кирхгофа\n",
    "\n",
    "Весь расход, который закачиваем в скважину, перераспределяется между трещинами (первый закон Кирхгофа):\n",
    "$$\n",
    "Q_0=\\sum_{i=1}^{N}{Q_i}\n",
    "$$\n",
    "\n",
    "Можно независимо рассматривать каждый из путей (к каждой из трещин) и считать гидродинамические сопротивления независимо (второй закон Кирхгофа):\n",
    "$$\n",
    "p_0=\\sigma_{min,i}+p_{net,i}+\\Delta p_{perf,i}-\\sum_{j=1}^{i}{\\Delta p_{h,j}}+\\sum_{j=1}^{i}\\Delta p_{fric,j},\n",
    "$$\n",
    "где\n",
    "\n",
    "$\\sigma_{min,i}$ -- давление закрытия (минимальное напряжение в пласте) на $i$-ой трещине;\n",
    "\n",
    "$p_{net,i}=p_{frac,i}-\\sigma_{min,i}$ -- давление на $i$-ой трещине (из модели трещины);\n",
    "\n",
    "$\\Delta p_{perf,i}$ -- падение давления вдоль перфорации $i$-ой трещины;\n",
    "\n",
    "$\\Delta p_{h,i}$ -- падение гидростатического давления между $i$-ой и $(i-1)$-ой трещинами;\n",
    "\n",
    "$\\Delta p_{fric,i}$ -- падение давления на трение между $i$-ой и $(i-1)$-ой трещинами.\n",
    "\n",
    "\n",
    "В итоге, получаем следующую систему уравнений:\n",
    "$$\n",
    "\\begin{cases}\n",
    "Q_0=\\sum\\limits_{i=1}^{N}{Q_i}\\\\\n",
    "p_0=\\sigma_{min,i}+p_{net,i}(Q_i)+\\Delta p_{perf,i}(Q_i)-\\sum\\limits_{j=1}^{i}{\\Delta p_{h,j}}+\\sum\\limits_{j=1}^{i}\\Delta p_{fric,j}(Q_i)\n",
    "\\end{cases}\n",
    "$$\n",
    "относительно неизвестных расходов $Q_i$ и забойного давления $p_0$."
   ]
  },
  {
   "attachments": {},
   "cell_type": "markdown",
   "metadata": {},
   "source": [
    "## Формула для давления $p_{net,i}$ на $i$-ой трещине"
   ]
  },
  {
   "attachments": {},
   "cell_type": "markdown",
   "metadata": {},
   "source": [
    "Аналитический подход (с использованием PKN модели):\n",
    "$$\n",
    "p_{net,i}(Q_i)=a_iQ_i^{\\frac{n}{2n+3}}V_i^{\\frac{1}{2n+3}},\n",
    "$$\n",
    "где $a_i=\\left(\\dfrac{(n+3)(2n+1)^n \\cdot K\\cdot (E_i')^{2n+2}}{\\pi\\, 2^{2n}n^n\\phi^n h_i^{3n+3}}\\right)^{\\!\\frac{1}{2n+3}}$ -- параметр жёсткости,\n",
    "\n",
    "\n",
    "$Q_i$ и $V_i$ -- расход на $i$-ой трещине и объём $i$-ой трещины;\n",
    "\n",
    "$K$ и $n$ -- реологические параметры степенной (неньютоновской) жидкости;\n",
    "\n",
    "$E_i'$ -- модуль плоской деформации $i$-ой трещины;\n",
    "\n",
    "$\\phi$ -- геометрический параметр;\n",
    "\n",
    "$h_i$ -- мощность продуктивной зоны.\n",
    "\n"
   ]
  },
  {
   "cell_type": "code",
   "execution_count": 3,
   "metadata": {},
   "outputs": [
    {
     "name": "stdout",
     "output_type": "stream",
     "text": [
      "Давление на 1-ой трещине:\n"
     ]
    },
    {
     "data": {
      "text/latex": [
       "$\\displaystyle Q_{1}^{\\frac{n}{2 n + 3}} V_{1}^{\\frac{1}{2 n + 3}} \\left(\\frac{2^{- 2 n} E_{1}^{2 n + 2} K h_{1}^{- 3 n - 3} n^{- n} \\phi^{- n} \\left(n + 3\\right) \\left(2 n + 1\\right)^{n}}{\\pi}\\right)^{\\frac{1}{2 n + 3}}$"
      ],
      "text/plain": [
       "Q1**(n/(2*n + 3))*V1**(1/(2*n + 3))*(E1**(2*n + 2)*K*h1**(-3*n - 3)*(n + 3)*(2*n + 1)**n/(2**(2*n)*pi*n**n*phi**n))**(1/(2*n + 3))"
      ]
     },
     "metadata": {},
     "output_type": "display_data"
    }
   ],
   "source": [
    "frac_count = 3  # количество трещин\n",
    "\n",
    "Q_0, p_0 = symbols('Q0 p0', real=True)  # расход и давление на забое\n",
    "\n",
    "\n",
    "Q = np.array(symbols(f'Q1:{frac_count+1}', real=True))  # расходы на каждой из трещин\n",
    "V = np.array(symbols(f'V1:{frac_count+1}', real=True))  # объём каждой из трещин\n",
    "E = np.array(symbols(f'E1:{frac_count+1}', real=True))  # модуль плоской деформации каждой из трещин\n",
    "h = np.array(symbols(f'h1:{frac_count+1}', real=True))  # мощность продуктивной зоны каждой из трещин\n",
    "K, n, phi = symbols('K n phi', real=True)  # реологические параметры жидкости и геометрический параметр трещины\n",
    "\n",
    "a = (((n + 3) * (2 * n + 1)**n * K * E**(2*n+2)) / (S.Pi * 2**(2 * n) * n**n * phi**n * h**(3 * n + 3))) ** (1 / (2 * n + 3))\n",
    "p_net = a * Q**(n/(2*n+3)) * V**(1/(2*n+3))  # давление на каждой из трещин\n",
    "#[diff(ell, Q[i]) for i,ell in enumerate(p_net)]\n",
    "print('Давление на 1-ой трещине:')\n",
    "display(p_net[0])"
   ]
  },
  {
   "attachments": {},
   "cell_type": "markdown",
   "metadata": {},
   "source": [
    "## Формула для падения давления $\\text{Δ} p_{perf,i}$ на перфорациях"
   ]
  },
  {
   "attachments": {},
   "cell_type": "markdown",
   "metadata": {},
   "source": [
    "Эмпирическая формула для падения давления на перфорациях:\n",
    "$$\n",
    "\\Delta p_{perf,i}=\\frac{8\\rho_s}{\\pi^2 C_{d,i}^2 n_{p,i}^2 d_{p_i}^4}Q_i\\left|Q_i\\right|,\n",
    "$$\n",
    "где $\\rho_s$ -- средняя плотность смеси;\n",
    "\n",
    "$n_{p,i}, d_{p,i}$ -- количество и диаметр перфораций;\n",
    "\n",
    "\n",
    "$C_{d,i}=\\dfrac{\\text{min}(d_{jet})}{d_p}$ -- безразмерный коэффициент эррозии (в случае отсутствия твёрдых частичек в потоке $C_{d,i}\\in\\left[0.5,0.6\\right]$, а с твёрдыми частичками в потоке $C_{d,j}\\in\\left[0.6,0.95\\right]$  из-за эррозии перфорации).\n"
   ]
  },
  {
   "attachments": {},
   "cell_type": "markdown",
   "metadata": {},
   "source": [
    "Зависимость плотности от концентрации?"
   ]
  },
  {
   "cell_type": "code",
   "execution_count": 4,
   "metadata": {},
   "outputs": [
    {
     "name": "stdout",
     "output_type": "stream",
     "text": [
      "Падение давления на перфорациях 1-ой трещины:\n"
     ]
    },
    {
     "data": {
      "text/latex": [
       "$\\displaystyle \\frac{8 Q_{1} \\rho_{s} \\left|{Q_{1}}\\right|}{\\pi^{2} C_{d1}^{2} d_{p1}^{4} n_{p1}^{2}}$"
      ],
      "text/plain": [
       "8*Q1*rho_s*Abs(Q1)/(pi**2*C_d1**2*d_p1**4*n_p1**2)"
      ]
     },
     "metadata": {},
     "output_type": "display_data"
    }
   ],
   "source": [
    "n_p = np.array(symbols(f'n_p1:{frac_count+1}', real=True))  # количество перфораций на каждой из трещин\n",
    "d_p = np.array(symbols(f'd_p1:{frac_count+1}', real=True))  # диаметр перфораций на каждой из трещин\n",
    "C_d = np.array(symbols(f'C_d1:{frac_count+1}', real=True))  # коэффициент эррозии на каждой из трещин\n",
    "rho_s = symbols('rho_s', real=True)  # средняя плотность смеси\n",
    "\n",
    "delta_p_perf = 8 * rho_s / (S.Pi**2 * C_d**2 * n_p**2 * d_p**4) * Q * abs(Q)  # падение давления на перфорациях на каждой из трещин\n",
    "print(f'Падение давления на перфорациях 1-ой трещины:')\n",
    "display(delta_p_perf[0])"
   ]
  },
  {
   "attachments": {},
   "cell_type": "markdown",
   "metadata": {},
   "source": [
    "## Формула для гидростатического давления $\\text{Δ} p_{h,i}$\n",
    "\n",
    "Гидростатическое давление на каждом интервале рассчитывается по следующей формуле:\n",
    "$$\n",
    "\\Delta p_{h,i}(t,x)=\\int\\limits_{x_{i-1}}^{x_i}{\\rho(c(t,s))\\cdot g\\cdot \\sin{(\\theta(s))}ds},\n",
    "$$\n",
    "где $x_i$ -- измеренная глубина (MD) $i$-ой трещины;\n",
    "\n",
    "$\\rho(c(t,s))$ -- плотность смеси, которая зависит от динамически меняющейся концентрации проппанта;\n",
    "\n",
    "$g$ -- ускорение свободного падения;\n",
    "\n",
    "$\\theta(s)$ -- угол между скважиной и поверхностью Земли в данной точке."
   ]
  },
  {
   "cell_type": "code",
   "execution_count": null,
   "metadata": {},
   "outputs": [],
   "source": []
  },
  {
   "attachments": {},
   "cell_type": "markdown",
   "metadata": {},
   "source": [
    "## Формула для падения давления $\\text{Δ} p_{fric,i}$ на трение\n",
    "\n",
    "Падение давления на трение на каждом интервале рассчитывается по следующей формуле:\n",
    "$$\n",
    "\\Delta p_{fric,i}=\\int\\limits_{x_{i-1}}^{x_i}{f\\frac{\\rho u_{m,i}^2}{R_i}}=\\int\\limits_{x_{i-1}}^{x_i}{\\frac{\\rho(c(t,s))\\cdot f(Re)\\cdot \\left(Q_0-\\sum\\limits_{j=1}^{i-1}{Q_j}\\right)^{\\!2}}{R_i(s)S_i^2(s)}}ds,\n",
    "$$\n",
    "где $f=\\dfrac{\\tau}{\\rho u_{m,i}^2/2}=\\dfrac{16}{Re}=\\dfrac{16\\mu_s}{\\rho u_m(2R)}$ -- коэффициент трения Фаннинга;\n",
    "\n",
    "$\\rho(c(t,s))$ -- плотность смеси, которая зависит от динамически меняющейся концентрации проппанта;\n",
    "\n",
    "$u_{m,i}=\\dfrac{Q_0-\\sum\\limits_{j=1}^{i-1}{Q_j}}{S_i}$ -- средняя скорость на рассматриваемом участке трубы;\n",
    "\n",
    "$S_i$ -- площадь сечения рассматриваемого участка трубы;\n",
    "\n",
    "$R_i$ -- радиус рассматриваемого участка трубы;\n",
    "\n",
    "$Re=\\dfrac{\\rho u_m(2R)}{\\mu_s}$ -- число Рейнольдса."
   ]
  },
  {
   "attachments": {},
   "cell_type": "markdown",
   "metadata": {},
   "source": [
    "Зависимость площади сечения от координаты? Зависимость плотности от концентрации?"
   ]
  },
  {
   "cell_type": "code",
   "execution_count": 5,
   "metadata": {},
   "outputs": [
    {
     "name": "stdout",
     "output_type": "stream",
     "text": [
      "Педение давления на трение в трубе между забоем и 1-ой трещиной:\n"
     ]
    },
    {
     "data": {
      "text/latex": [
       "$\\displaystyle \\frac{8 K L_{1} Q_{0}}{\\pi R_{1}^{4}}$"
      ],
      "text/plain": [
       "8*K*L1*Q0/(pi*R1**4)"
      ]
     },
     "metadata": {},
     "output_type": "display_data"
    }
   ],
   "source": [
    "R = np.array(symbols(f'R1:{frac_count+1}', real=True))  # радиус участков трубы к каждой из трещин\n",
    "L = np.array(symbols(f'L1:{frac_count+1}', real=True))  # длина участков трубы, ведущих к каждой из трещин\n",
    "\n",
    "u_m = np.array(symbols(f'u_m1:{frac_count+1}', real=True))  # средняя скорость на рассматриваемом участке к каждой из трещин\n",
    "for i, u in enumerate(u_m):\n",
    "    u_m[i] = (Q_0 - sum([Q[j] for j in range(i)])) / (S.Pi * R[i]**2)\n",
    "\n",
    "delta_p_fric = 8 * (K / R) * (u_m / R) * L # падение давления на трение в трубе для каждой из трещин\n",
    "print('Педение давления на трение в трубе между забоем и 1-ой трещиной:')\n",
    "display(delta_p_fric[0])"
   ]
  },
  {
   "attachments": {},
   "cell_type": "markdown",
   "metadata": {},
   "source": [
    "## Все полученные из законов Кирхгофа уравнения"
   ]
  },
  {
   "cell_type": "code",
   "execution_count": 6,
   "metadata": {},
   "outputs": [],
   "source": [
    "all_eqns = np.array([])  # массив со всеми уравнениями законов Кирхгофа\n",
    "sigma_min = symbols(f'sigma_min1:{frac_count+1}')  # давление закрытия для каждой из трещин\n",
    "\n",
    "# добавляем уравнения второго закона Кирхгофа в массив all_eqns\n",
    "for i in range(frac_count):\n",
    "    all_eqns = np.append(all_eqns, p_0 - sigma_min[i] - p_net[i] - delta_p_perf[i] - sum([delta_p_fric[j] for j in range(i+1)]))\n",
    "\n",
    "# добавляем уравнение первого закона Кирхгофа в массив all_eqns\n",
    "all_eqns = np.append(all_eqns, Q_0 - sum(Q))"
   ]
  },
  {
   "attachments": {},
   "cell_type": "markdown",
   "metadata": {},
   "source": [
    "<center> <img src=\"../images/flow_distribution_scheme.jpg\" width=\"700px\" /> </center>"
   ]
  },
  {
   "cell_type": "code",
   "execution_count": 7,
   "metadata": {},
   "outputs": [
    {
     "name": "stdout",
     "output_type": "stream",
     "text": [
      "Все уравнения законов Кирхгофа: \n"
     ]
    },
    {
     "data": {
      "text/latex": [
       "$\\displaystyle - \\frac{8 K L_{1} Q_{0}}{\\pi R_{1}^{4}} - Q_{1}^{\\frac{n}{2 n + 3}} V_{1}^{\\frac{1}{2 n + 3}} \\left(\\frac{2^{- 2 n} E_{1}^{2 n + 2} K h_{1}^{- 3 n - 3} n^{- n} \\phi^{- n} \\left(n + 3\\right) \\left(2 n + 1\\right)^{n}}{\\pi}\\right)^{\\frac{1}{2 n + 3}} + p_{0} - \\sigma_{min1} - \\frac{8 Q_{1} \\rho_{s} \\left|{Q_{1}}\\right|}{\\pi^{2} C_{d1}^{2} d_{p1}^{4} n_{p1}^{2}}$"
      ],
      "text/plain": [
       "-8*K*L1*Q0/(pi*R1**4) - Q1**(n/(2*n + 3))*V1**(1/(2*n + 3))*(E1**(2*n + 2)*K*h1**(-3*n - 3)*(n + 3)*(2*n + 1)**n/(2**(2*n)*pi*n**n*phi**n))**(1/(2*n + 3)) + p0 - sigma_min1 - 8*Q1*rho_s*Abs(Q1)/(pi**2*C_d1**2*d_p1**4*n_p1**2)"
      ]
     },
     "metadata": {},
     "output_type": "display_data"
    },
    {
     "data": {
      "text/latex": [
       "$\\displaystyle - \\frac{8 K L_{1} Q_{0}}{\\pi R_{1}^{4}} - \\frac{8 K L_{2} \\left(Q_{0} - Q_{1}\\right)}{\\pi R_{2}^{4}} - Q_{2}^{\\frac{n}{2 n + 3}} V_{2}^{\\frac{1}{2 n + 3}} \\left(\\frac{2^{- 2 n} E_{2}^{2 n + 2} K h_{2}^{- 3 n - 3} n^{- n} \\phi^{- n} \\left(n + 3\\right) \\left(2 n + 1\\right)^{n}}{\\pi}\\right)^{\\frac{1}{2 n + 3}} + p_{0} - \\sigma_{min2} - \\frac{8 Q_{2} \\rho_{s} \\left|{Q_{2}}\\right|}{\\pi^{2} C_{d2}^{2} d_{p2}^{4} n_{p2}^{2}}$"
      ],
      "text/plain": [
       "-8*K*L1*Q0/(pi*R1**4) - 8*K*L2*(Q0 - Q1)/(pi*R2**4) - Q2**(n/(2*n + 3))*V2**(1/(2*n + 3))*(E2**(2*n + 2)*K*h2**(-3*n - 3)*(n + 3)*(2*n + 1)**n/(2**(2*n)*pi*n**n*phi**n))**(1/(2*n + 3)) + p0 - sigma_min2 - 8*Q2*rho_s*Abs(Q2)/(pi**2*C_d2**2*d_p2**4*n_p2**2)"
      ]
     },
     "metadata": {},
     "output_type": "display_data"
    },
    {
     "data": {
      "text/latex": [
       "$\\displaystyle - \\frac{8 K L_{1} Q_{0}}{\\pi R_{1}^{4}} - \\frac{8 K L_{2} \\left(Q_{0} - Q_{1}\\right)}{\\pi R_{2}^{4}} - \\frac{8 K L_{3} \\left(Q_{0} - Q_{1} - Q_{2}\\right)}{\\pi R_{3}^{4}} - Q_{3}^{\\frac{n}{2 n + 3}} V_{3}^{\\frac{1}{2 n + 3}} \\left(\\frac{2^{- 2 n} E_{3}^{2 n + 2} K h_{3}^{- 3 n - 3} n^{- n} \\phi^{- n} \\left(n + 3\\right) \\left(2 n + 1\\right)^{n}}{\\pi}\\right)^{\\frac{1}{2 n + 3}} + p_{0} - \\sigma_{min3} - \\frac{8 Q_{3} \\rho_{s} \\left|{Q_{3}}\\right|}{\\pi^{2} C_{d3}^{2} d_{p3}^{4} n_{p3}^{2}}$"
      ],
      "text/plain": [
       "-8*K*L1*Q0/(pi*R1**4) - 8*K*L2*(Q0 - Q1)/(pi*R2**4) - 8*K*L3*(Q0 - Q1 - Q2)/(pi*R3**4) - Q3**(n/(2*n + 3))*V3**(1/(2*n + 3))*(E3**(2*n + 2)*K*h3**(-3*n - 3)*(n + 3)*(2*n + 1)**n/(2**(2*n)*pi*n**n*phi**n))**(1/(2*n + 3)) + p0 - sigma_min3 - 8*Q3*rho_s*Abs(Q3)/(pi**2*C_d3**2*d_p3**4*n_p3**2)"
      ]
     },
     "metadata": {},
     "output_type": "display_data"
    },
    {
     "data": {
      "text/latex": [
       "$\\displaystyle Q_{0} - Q_{1} - Q_{2} - Q_{3}$"
      ],
      "text/plain": [
       "Q0 - Q1 - Q2 - Q3"
      ]
     },
     "metadata": {},
     "output_type": "display_data"
    }
   ],
   "source": [
    "print('Все уравнения законов Кирхгофа: ')\n",
    "for eqn in all_eqns:\n",
    "    display(eqn)"
   ]
  },
  {
   "attachments": {},
   "cell_type": "markdown",
   "metadata": {},
   "source": [
    "## Итеративная процедура решения с помощью метода Ньютона"
   ]
  },
  {
   "cell_type": "code",
   "execution_count": 8,
   "metadata": {},
   "outputs": [
    {
     "name": "stdout",
     "output_type": "stream",
     "text": [
      "Матрица Якоби:\n"
     ]
    },
    {
     "data": {
      "text/latex": [
       "$\\displaystyle \\left[\\begin{matrix}- \\frac{Q_{1}^{\\frac{n}{2 n + 3}} V_{1}^{\\frac{1}{2 n + 3}} n \\left(\\frac{2^{- 2 n} E_{1}^{2 n + 2} K h_{1}^{- 3 n - 3} n^{- n} \\phi^{- n} \\left(n + 3\\right) \\left(2 n + 1\\right)^{n}}{\\pi}\\right)^{\\frac{1}{2 n + 3}}}{Q_{1} \\cdot \\left(2 n + 3\\right)} - \\frac{8 Q_{1} \\rho_{s} \\operatorname{sign}{\\left(Q_{1} \\right)}}{\\pi^{2} C_{d1}^{2} d_{p1}^{4} n_{p1}^{2}} - \\frac{8 \\rho_{s} \\left|{Q_{1}}\\right|}{\\pi^{2} C_{d1}^{2} d_{p1}^{4} n_{p1}^{2}} & 0 & 0 & 1\\\\\\frac{8 K L_{2}}{\\pi R_{2}^{4}} & - \\frac{Q_{2}^{\\frac{n}{2 n + 3}} V_{2}^{\\frac{1}{2 n + 3}} n \\left(\\frac{2^{- 2 n} E_{2}^{2 n + 2} K h_{2}^{- 3 n - 3} n^{- n} \\phi^{- n} \\left(n + 3\\right) \\left(2 n + 1\\right)^{n}}{\\pi}\\right)^{\\frac{1}{2 n + 3}}}{Q_{2} \\cdot \\left(2 n + 3\\right)} - \\frac{8 Q_{2} \\rho_{s} \\operatorname{sign}{\\left(Q_{2} \\right)}}{\\pi^{2} C_{d2}^{2} d_{p2}^{4} n_{p2}^{2}} - \\frac{8 \\rho_{s} \\left|{Q_{2}}\\right|}{\\pi^{2} C_{d2}^{2} d_{p2}^{4} n_{p2}^{2}} & 0 & 1\\\\\\frac{8 K L_{2}}{\\pi R_{2}^{4}} + \\frac{8 K L_{3}}{\\pi R_{3}^{4}} & \\frac{8 K L_{3}}{\\pi R_{3}^{4}} & - \\frac{Q_{3}^{\\frac{n}{2 n + 3}} V_{3}^{\\frac{1}{2 n + 3}} n \\left(\\frac{2^{- 2 n} E_{3}^{2 n + 2} K h_{3}^{- 3 n - 3} n^{- n} \\phi^{- n} \\left(n + 3\\right) \\left(2 n + 1\\right)^{n}}{\\pi}\\right)^{\\frac{1}{2 n + 3}}}{Q_{3} \\cdot \\left(2 n + 3\\right)} - \\frac{8 Q_{3} \\rho_{s} \\operatorname{sign}{\\left(Q_{3} \\right)}}{\\pi^{2} C_{d3}^{2} d_{p3}^{4} n_{p3}^{2}} - \\frac{8 \\rho_{s} \\left|{Q_{3}}\\right|}{\\pi^{2} C_{d3}^{2} d_{p3}^{4} n_{p3}^{2}} & 1\\\\-1 & -1 & -1 & 0\\end{matrix}\\right]$"
      ],
      "text/plain": [
       "Matrix([\n",
       "[-Q1**(n/(2*n + 3))*V1**(1/(2*n + 3))*n*(E1**(2*n + 2)*K*h1**(-3*n - 3)*(n + 3)*(2*n + 1)**n/(2**(2*n)*pi*n**n*phi**n))**(1/(2*n + 3))/(Q1*(2*n + 3)) - 8*Q1*rho_s*sign(Q1)/(pi**2*C_d1**2*d_p1**4*n_p1**2) - 8*rho_s*Abs(Q1)/(pi**2*C_d1**2*d_p1**4*n_p1**2),                                                                                                                                                                                                                                                            0,                                                                                                                                                                                                                                                            0, 1],\n",
       "[                                                                                                                                                                                                                                           8*K*L2/(pi*R2**4), -Q2**(n/(2*n + 3))*V2**(1/(2*n + 3))*n*(E2**(2*n + 2)*K*h2**(-3*n - 3)*(n + 3)*(2*n + 1)**n/(2**(2*n)*pi*n**n*phi**n))**(1/(2*n + 3))/(Q2*(2*n + 3)) - 8*Q2*rho_s*sign(Q2)/(pi**2*C_d2**2*d_p2**4*n_p2**2) - 8*rho_s*Abs(Q2)/(pi**2*C_d2**2*d_p2**4*n_p2**2),                                                                                                                                                                                                                                                            0, 1],\n",
       "[                                                                                                                                                                                                                       8*K*L2/(pi*R2**4) + 8*K*L3/(pi*R3**4),                                                                                                                                                                                                                                            8*K*L3/(pi*R3**4), -Q3**(n/(2*n + 3))*V3**(1/(2*n + 3))*n*(E3**(2*n + 2)*K*h3**(-3*n - 3)*(n + 3)*(2*n + 1)**n/(2**(2*n)*pi*n**n*phi**n))**(1/(2*n + 3))/(Q3*(2*n + 3)) - 8*Q3*rho_s*sign(Q3)/(pi**2*C_d3**2*d_p3**4*n_p3**2) - 8*rho_s*Abs(Q3)/(pi**2*C_d3**2*d_p3**4*n_p3**2), 1],\n",
       "[                                                                                                                                                                                                                                                          -1,                                                                                                                                                                                                                                                           -1,                                                                                                                                                                                                                                                           -1, 0]])"
      ]
     },
     "metadata": {},
     "output_type": "display_data"
    }
   ],
   "source": [
    "# матрица Якоби\n",
    "J = np.zeros(shape=(frac_count+1, frac_count+1), dtype=object)\n",
    "for i, _ in enumerate(all_eqns):\n",
    "    for j, _ in enumerate(Q):\n",
    "        J[i, j] = diff(all_eqns[i], Q[j])\n",
    "    J[i, -1] = diff(all_eqns[i], p_0)\n",
    "\n",
    "# запись матрицы Якоби в символьном виде\n",
    "J_sym = Matrix(J)\n",
    "print('Матрица Якоби:')\n",
    "display(J_sym)"
   ]
  },
  {
   "cell_type": "code",
   "execution_count": 9,
   "metadata": {},
   "outputs": [],
   "source": [
    "# числовые значения известных параметров задачи\n",
    "# в массивах параметров трещин сдвиг индексов на 1, т.к. нумерация в массивах начинается с нуля\n",
    "# например, чтобы изменить параметр для 1-ой трещины необходимо обратиться к нулевому элементу массива\n",
    "\n",
    "parameter_values = {\n",
    "    Q_0: 800 / 86400,  # расход на забое, м^3/с\n",
    "    K: 0.00071,  # первый реологический параметр жидкости (смеси), Па*с\n",
    "    n: 1,  # второй реологический параметр жидкости (смеси)\n",
    "    phi: 0.3,  # безразмерный геометрический параметр трещины\n",
    "    rho_s: 1400  # плотность жидкости (смеси), кг/м^3\n",
    "}\n",
    "\n",
    "for i in range(frac_count):\n",
    "    parameter_values[V[i]] = 20  # объёмы трещин, м^3\n",
    "    parameter_values[E[i]] = 1e10  # модули плоской деформации трещин, Па\n",
    "    parameter_values[h[i]] = 2  # мощности продуктивной зоны, м\n",
    "    parameter_values[n_p[i]] = 16  # количества перфораций\n",
    "    parameter_values[d_p[i]] = 0.02  # диаметры перфораций, м\n",
    "    parameter_values[C_d[i]] = 0.7  # безразмерные коэффициенты эррозии\n",
    "    parameter_values[R[i]] = 0.08  # радиусы участков трубы между i-ой и (i-1)-ой трещинами, м\n",
    "    parameter_values[L[i]] = 100  # длины участков трубы между i-ой и (i-1)-ой трещинами, м\n",
    "    parameter_values[sigma_min[i]] = 1e7  # давления закрытия трещин, Па\n",
    "\n",
    "# изменение числовых значений параметров трещин (если необходимо задать отдельно для каждой трещины)\n",
    "# parameter_values[L[2]] = 1000000"
   ]
  },
  {
   "cell_type": "code",
   "execution_count": 10,
   "metadata": {},
   "outputs": [
    {
     "name": "stdout",
     "output_type": "stream",
     "text": [
      "Начальное приближение:\n",
      "{Q1: 0.00308641975308642, Q2: 0.00308641975308642, Q3: 0.00308641975308642, p0: 10000000.0000000}\n"
     ]
    }
   ],
   "source": [
    "# начальные приближения числовых значений неизвестных параметров задачи\n",
    "solution_values = {}\n",
    "for i in range(frac_count):\n",
    "    solution_values[Q[i]] = N(Q_0.subs(parameter_values)/frac_count)  # расходы на каждой из трещин (начальное приближение)\n",
    "solution_values[p_0] = N(sigma_min[0].subs(parameter_values))  # забойное давление (начальное приближение)\n",
    "#solution_values[Q[0]] = 20 / 86400\n",
    "print(f'Начальное приближение:\\n{solution_values}')"
   ]
  },
  {
   "cell_type": "code",
   "execution_count": 11,
   "metadata": {},
   "outputs": [
    {
     "name": "stdout",
     "output_type": "stream",
     "text": [
      "{Q1: 0.00308641975308642, Q2: 0.00308641975308642, Q3: 0.00308641975308642, p0: 10000000.0000000}\n",
      "{Q1: 0.0030864672388794595, Q2: 0.0030864102558752103, Q3: 0.0030863817645045907, p0: 17374255.207987502}\n",
      "Итоговое решение:\n",
      "{Q1: 0.003086467239007829, Q2: 0.0030864102557234987, Q3: 0.003086381764527931, p0: 17374255.20790938}\n"
     ]
    }
   ],
   "source": [
    "# вектор решения\n",
    "solution_vector = np.array(list(N(Matrix(Q).subs(solution_values)))+[N(p_0.subs(solution_values))], dtype='float64').reshape(frac_count+1,1)\n",
    "# предыдущий вектор решения\n",
    "last_solution_vector = solution_vector - 100\n",
    "\n",
    "# реализация метода Ньютона\n",
    "while np.linalg.norm(solution_vector - last_solution_vector) > 1e-4:\n",
    "    # печатаем текущее приближение к решению\n",
    "    print(solution_values)\n",
    "    # обновляем предыдущий вектор решения\n",
    "    last_solution_vector = solution_vector.copy()\n",
    "    # матрица Якоби\n",
    "    J = np.array(N(J_sym.subs({**parameter_values, **solution_values})), dtype='float64')\n",
    "    # вектор остатков\n",
    "    residual_vector = np.array(N(Matrix(all_eqns).subs({**parameter_values, **solution_values})), dtype='float64')\n",
    "    # новый вектор решения\n",
    "    solution_vector -= np.matmul(np.linalg.inv(J), residual_vector)\n",
    "    # обновление значений текущего вектора решения в словаре solution_values\n",
    "    for i in range(frac_count):\n",
    "        solution_values[Q[i]] = solution_vector.reshape(frac_count+1,)[i]\n",
    "    solution_values[p_0] = solution_vector.reshape(frac_count+1,)[-1]\n",
    "else:\n",
    "    print(f'Итоговое решение:\\n{solution_values}')"
   ]
  },
  {
   "cell_type": "code",
   "execution_count": 12,
   "metadata": {},
   "outputs": [
    {
     "name": "stdout",
     "output_type": "stream",
     "text": [
      "Расход на 1-ой трещине: Q1 = 266.67076945027645 м^3/сут\n",
      "Расход на 2-ой трещине: Q2 = 266.6658460945103 м^3/сут\n",
      "Расход на 3-ой трещине: Q3 = 266.66338445521325 м^3/сут\n",
      "Забойное давление: p0 = 17.37425520790938 МПа\n"
     ]
    }
   ],
   "source": [
    "for i in range(frac_count):\n",
    "    print(f'Расход на {i+1}-ой трещине: Q{i+1} = {solution_values[Q[i]]*86400} м^3/сут')\n",
    "print(f'Забойное давление: p0 = {solution_values[p_0] / 1e6} МПа')"
   ]
  },
  {
   "cell_type": "code",
   "execution_count": null,
   "metadata": {},
   "outputs": [],
   "source": []
  }
 ],
 "metadata": {
  "kernelspec": {
   "display_name": "base",
   "language": "python",
   "name": "python3"
  },
  "language_info": {
   "codemirror_mode": {
    "name": "ipython",
    "version": 3
   },
   "file_extension": ".py",
   "mimetype": "text/x-python",
   "name": "python",
   "nbconvert_exporter": "python",
   "pygments_lexer": "ipython3",
   "version": "3.9.13"
  },
  "orig_nbformat": 4,
  "vscode": {
   "interpreter": {
    "hash": "dddb269d354fb4cef66200a4ce2b5779135fb59a526efe11ebdea67122026ac0"
   }
  }
 },
 "nbformat": 4,
 "nbformat_minor": 2
}
