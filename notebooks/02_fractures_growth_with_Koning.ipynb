{
 "cells": [
  {
   "cell_type": "code",
   "execution_count": 1,
   "metadata": {},
   "outputs": [],
   "source": [
    "import numpy as np\n",
    "from sympy import *"
   ]
  },
  {
   "cell_type": "code",
   "execution_count": 2,
   "metadata": {},
   "outputs": [],
   "source": [
    "fracs_count = 3"
   ]
  },
  {
   "cell_type": "code",
   "execution_count": 3,
   "metadata": {},
   "outputs": [],
   "source": [
    "Q_0, p_0 = symbols('Q0 p0', real=True)\n",
    "\n",
    "Q = np.array(symbols(f'Q1:{fracs_count+1}', real=True))  # расходы на каждой из трещин\n",
    "V = np.array(symbols(f'V1:{fracs_count+1}', real=True))  # объём каждой из трещин\n",
    "E = np.array(symbols(f'E1:{fracs_count+1}', real=True))  # модуль плоской деформации каждой из трещин\n",
    "h = np.array(symbols(f'h1:{fracs_count+1}', real=True))  # мощность продуктивной зоны каждой из трещин\n",
    "K, n, phi = symbols('K n phi', real=True)  # реологические параметры жидкости и геометрический параметр трещины\n",
    "\n",
    "n_p = np.array(symbols(f'n_p1:{fracs_count+1}', real=True))  # количество перфораций на каждой из трещин\n",
    "d_p = np.array(symbols(f'd_p1:{fracs_count+1}', real=True))  # диаметр перфораций на каждой из трещин\n",
    "C_d = np.array(symbols(f'C_d1:{fracs_count+1}', real=True))  # коэффициент эррозии на каждой из трещин\n",
    "rho_s = symbols('rho_s', real=True)  # средняя плотность смеси\n",
    "\n",
    "R = np.array(symbols(f'R1:{fracs_count+1}', real=True))  # радиус участков трубы к каждой из трещин\n",
    "L = np.array(symbols(f'L1:{fracs_count+1}', real=True))  # длина участков трубы, ведущих к каждой из трещин\n",
    "K = symbols('K', real=True)\n",
    "\n",
    "u_m = np.array(symbols(f'u_m1:{fracs_count+1}', real=True))  # средняя скорость на рассматриваемом участке к каждой из трещин\n",
    "sigma_min = symbols(f'sigma_min1:{fracs_count+1}')  # давление закрытия для каждой из трещин"
   ]
  },
  {
   "cell_type": "code",
   "execution_count": 4,
   "metadata": {},
   "outputs": [],
   "source": [
    "def p_net():\n",
    "    a = (((n + 3) * (2 * n + 1)**n * K * E**(2*n+2)) / (S.Pi * 2**(2 * n) * n**n * phi**n * h**(3 * n + 3))) ** (1 / (2 * n + 3))\n",
    "    p_net = a * Q**(n/(2*n+3)) * V**(1/(2*n+3))  # давление на каждой из трещин\n",
    "    return p_net\n",
    "\n",
    "def delta_p_perf():\n",
    "    delta_p_perf = 8 * rho_s / (S.Pi**2 * C_d**2 * n_p**2 * d_p**4) * Q * abs(Q)  # падение давления на перфорациях на каждой из трещин\n",
    "    return delta_p_perf\n",
    "\n",
    "def delta_p_fric():\n",
    "    for i, u in enumerate(u_m):\n",
    "        u_m[i] = (Q_0 - sum([Q[j] for j in range(i)])) / (S.Pi * R[i]**2)\n",
    "    delta_p_fric = 8 * (K / R) * (u_m / R) * L # падение давления на трение в трубе для каждой из трещин\n",
    "    return delta_p_fric"
   ]
  },
  {
   "cell_type": "code",
   "execution_count": 5,
   "metadata": {},
   "outputs": [],
   "source": [
    "def kirchgoff_solver(parameter_values):\n",
    "    all_eqns = np.array([])  # массив со всеми уравнениями законов Кирхгофа\n",
    "    \n",
    "    # добавляем левую часть уравнений второго закона Кирхгофа в массив all_eqns\n",
    "    for i in range(fracs_count):\n",
    "        all_eqns = np.append(all_eqns, p_0 - sigma_min[i] - p_net()[i] - delta_p_perf()[i] - sum([delta_p_fric()[j] for j in range(i+1)]))\n",
    "\n",
    "    # добавляем левую часть уравнения первого закона Кирхгофа в массив all_eqns\n",
    "    all_eqns = np.append(all_eqns, Q_0 - sum(Q))\n",
    "    \n",
    "    # матрица Якоби\n",
    "    J = np.zeros(shape=(fracs_count+1, fracs_count+1), dtype=object)\n",
    "    for i, _ in enumerate(all_eqns):\n",
    "        for j, _ in enumerate(Q):\n",
    "            J[i, j] = diff(all_eqns[i], Q[j])\n",
    "        J[i, -1] = diff(all_eqns[i], p_0)\n",
    "    J_sym = Matrix(J)\n",
    "\n",
    "    # начальные приближения числовых значений неизвестных параметров задачи\n",
    "    solution_values = {}\n",
    "    for i in range(fracs_count):\n",
    "        solution_values[Q[i]] = N(Q_0.subs(parameter_values)/fracs_count)  # расходы на каждой из трещин (начальное приближение)\n",
    "    solution_values[p_0] = N(sigma_min[0].subs(parameter_values))  # забойное давление (начальное приближение)\n",
    "\n",
    "    # вектор решения\n",
    "    solution_vector = np.array(list(N(Matrix(Q).subs(solution_values)))+[N(p_0.subs(solution_values))], dtype='float64').reshape(fracs_count+1,1)\n",
    "    # предыдущий вектор решения\n",
    "    last_solution_vector = solution_vector - 100\n",
    "\n",
    "    # реализация метода Ньютона\n",
    "    while np.linalg.norm(solution_vector - last_solution_vector) > 1e-4:\n",
    "        # обновляем предыдущий вектор решения\n",
    "        last_solution_vector = solution_vector.copy()\n",
    "        # матрица Якоби\n",
    "        J = np.array(N(J_sym.subs({**parameter_values, **solution_values})), dtype='float64')\n",
    "        # вектор остатков\n",
    "        residual_vector = np.array(N(Matrix(all_eqns).subs({**parameter_values, **solution_values})), dtype='float64')\n",
    "        # новый вектор решения\n",
    "        solution_vector -= np.matmul(np.linalg.inv(J), residual_vector)\n",
    "        # обновление значений текущего вектора решения в словаре solution_values\n",
    "        for i in range(fracs_count):\n",
    "            solution_values[Q[i]] = solution_vector.reshape(fracs_count+1,)[i]\n",
    "        solution_values[p_0] = solution_vector.reshape(fracs_count+1,)[-1]\n",
    "    return solution_values"
   ]
  },
  {
   "cell_type": "code",
   "execution_count": 6,
   "metadata": {},
   "outputs": [],
   "source": [
    "parameter_values = {\n",
    "    Q_0: 800 / 86400,  # расход на забое, м^3/с\n",
    "    K: 0.00071,  # первый реологический параметр жидкости (смеси), Па*с\n",
    "    n: 1,  # второй реологический параметр жидкости (смеси)\n",
    "    phi: 0.3,  # безразмерный геометрический параметр трещины\n",
    "    rho_s: 1400  # плотность жидкости (смеси), кг/м^3\n",
    "}\n",
    "\n",
    "for i in range(fracs_count):\n",
    "    parameter_values[V[i]] = 200  # объёмы трещин, м^3\n",
    "    parameter_values[E[i]] = 1e10  # модули плоской деформации трещин, Па\n",
    "    parameter_values[h[i]] = 2  # мощности продуктивной зоны, м\n",
    "    parameter_values[n_p[i]] = 16  # количества перфораций\n",
    "    parameter_values[d_p[i]] = 0.02  # диаметры перфораций, м\n",
    "    parameter_values[C_d[i]] = 0.7  # безразмерные коэффициенты эррозии\n",
    "    parameter_values[R[i]] = 0.08  # радиусы участков трубы между i-ой и (i-1)-ой трещинами, м\n",
    "    parameter_values[L[i]] = 100  # длины участков трубы между i-ой и (i-1)-ой трещинами, м\n",
    "    parameter_values[sigma_min[i]] = 1e7  # давления закрытия трещин, Па"
   ]
  },
  {
   "cell_type": "code",
   "execution_count": 7,
   "metadata": {},
   "outputs": [
    {
     "name": "stdout",
     "output_type": "stream",
     "text": [
      "{Q1: 0.003086449722815612, Q2: 0.0030864137590693964, Q3: 0.0030863957773742505, p0: 21687054.66523274}\n"
     ]
    }
   ],
   "source": [
    "solution_values = kirchgoff_solver(parameter_values)\n",
    "print(solution_values)"
   ]
  },
  {
   "cell_type": "code",
   "execution_count": 8,
   "metadata": {},
   "outputs": [
    {
     "data": {
      "text/latex": [
       "$\\displaystyle 11686434.3246417$"
      ],
      "text/plain": [
       "11686434.3246417"
      ]
     },
     "execution_count": 8,
     "metadata": {},
     "output_type": "execute_result"
    }
   ],
   "source": [
    "N(p_net()[2].subs({**parameter_values, **solution_values}))"
   ]
  },
  {
   "cell_type": "code",
   "execution_count": null,
   "metadata": {},
   "outputs": [],
   "source": []
  }
 ],
 "metadata": {
  "kernelspec": {
   "display_name": "hydrofracturing-env",
   "language": "python",
   "name": "python3"
  },
  "language_info": {
   "codemirror_mode": {
    "name": "ipython",
    "version": 3
   },
   "file_extension": ".py",
   "mimetype": "text/x-python",
   "name": "python",
   "nbconvert_exporter": "python",
   "pygments_lexer": "ipython3",
   "version": "3.11.0"
  },
  "orig_nbformat": 4
 },
 "nbformat": 4,
 "nbformat_minor": 2
}
